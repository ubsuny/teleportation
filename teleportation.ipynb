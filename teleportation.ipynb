{
 "cells": [
  {
   "cell_type": "markdown",
   "id": "9d027a8f-bd36-446a-abc6-39562ad03c27",
   "metadata": {
    "tags": []
   },
   "source": [
    "# **Quantum Teleportation**\n"
   ]
  },
  {
   "cell_type": "markdown",
   "id": "fd96a75b-13b8-4a53-9da6-5576c7c46d5b",
   "metadata": {},
   "source": [
    "The codes an examples mentioned belows are taken from [**IBM Qiskit / Teleportation**](https://qiskit.org/textbook/ch-algorithms/teleportation.html#4.-Understanding-Quantum-Teleportation-) and the other sources mention in **Reference Pages**. We can simulate quantum  teleportation using Qiskit, using Qiskit  simulator to test our circuit than execute  it on  real quantum computer (IBMQ) . Our purpose  will be  to teleport the quantum state of a qubit to another qubit, without moving or sending the qubit itself.\n",
    "\n"
   ]
  },
  {
   "cell_type": "markdown",
   "id": "5492861e-b3a6-47f5-9924-0fc6136d4414",
   "metadata": {},
   "source": [
    "# What is Quantum Teleportation : \n",
    "We are all familiar with the word **\"TELEPORTATION\"** , litterally means transfer of any object physically  from one place to another . Well, in Quantum Computing , this term has a specific meaning .Quantum teleportation is the idea of transporting quantum information from one sender to another without sending the object itself. In 1993 an international group of six scientists, including IBM Fellow Charles H. Bennett, showed that perfect teleportation is indeed possible in principle, but only if the original is destroyed.In 2017 Chinese scientist were able to telport quantum information from there ground station to sateline orbiting the earth almost 500 km abov successfully.In this project, I am  going to talk about how Quantum teleportation works, with some history (Physics) and a demonstration using IBM Qiskit as well as Quantum Computer. "
   ]
  },
  {
   "cell_type": "markdown",
   "id": "d4a5f0e5-2a41-4599-8345-fee72970056f",
   "metadata": {},
   "source": [
    "## History : \n",
    "To have a better  understanding on quantum teleportation, we need to understand the following concepts:\n",
    "\n",
    "a)\tQuantum Entanglement: Entanglement is the phenomenon in which a system of two (or more) particles is generated such that the state of individual particles cannot be described independently. \n",
    "\n",
    "\n",
    "b)\tEPR paradox : . In 1935 Albert Einstein published a paper with his 2 coworker Podolsky and Rosen  to prove that the Quantum Mechanic is an incomplete theory.The paper is  known as the EPR paradox . They argued that Quantum Mechanic is a local theory and thus its invalid.  They also came up with an idea of “Hidded Variable”. \n",
    "\n",
    "\n",
    "c)\tBells Theorem: In 1964, John Bell released a paper, “On the Einstein Podolsky Rosen Paradox.” Bell’s paper argues that the wave function is not incomplete as offered by EPR. He further claims that non-locality is not a problem for a theory that intends to reproduce quantum mechanical predictions.\n"
   ]
  },
  {
   "cell_type": "markdown",
   "id": "ab4d27b2-f25a-485a-9a9e-0d40705b6816",
   "metadata": {},
   "source": [
    "![Title](epr.jpg)"
   ]
  },
  {
   "cell_type": "markdown",
   "id": "3d11ec3e-614e-40ad-8e3e-9736697ada95",
   "metadata": {},
   "source": [
    "EPR paradox famously argued that Quantum Mechanic is a local theory and thus its invalid.According to Eisntein, \"entanglement\" was described as \"Spooky action at a distance\" . They also came up with an idea of “Hidded Variable” . But later , after experiments when it is found that quantum mechanics violates Bell inequalities  which indicates that any hidden-variable theory underlying quantum mechanics must be non-local; whether this should be taken to imply that quantum mechanics itself is non-local is a matter of debate.However when the first test (after which numerous others followed) was performed in 1982 it fully agreed with the quantum mechanical predictions and it was shown that quantum mechanics was a non-local theory. With the acceptance of this idea, it is known why quantum teleportation works(at least theoritically!). \n"
   ]
  },
  {
   "cell_type": "markdown",
   "id": "f6d64665-31ad-4c69-9769-f4f841937858",
   "metadata": {},
   "source": [
    "# How Quantum Teleportation works :\n",
    "\n",
    "Quantum Teleportation begins with the fact that Alice needs to transmit $|\\psi\\rangle = \\alpha|0\\rangle + \\beta|1\\rangle$ (a random qubit) to Bob. She doesn't know the state of the qubit. For this, Alice and Bob take the help of a third party (Telamon). Telamon prepares a pair of entangled qubits for Alice and Bob. The entangled qubits could be written in Dirac Notation as:\n",
    "\n",
    "$$ |e \\rangle = \\frac{1}{\\sqrt{2}} (|00\\rangle + |11\\rangle) $$\n",
    "\n",
    "Alice and Bob each possess one qubit of the entangled pair (denoted as A and B respectively),\n",
    "\n",
    "$$|e\\rangle = \\frac{1}{\\sqrt{2}} (|0\\rangle_A |0\\rangle_B + |1\\rangle_A |1\\rangle_B) $$\n",
    "\n",
    "This creates a three qubit quantum system where Alice has the first two qubits and Bob the last one.\n",
    "\n",
    "$$ \\begin{align*}\n",
    "|\\psi\\rangle \\otimes |e\\rangle &= \\frac{1}{\\sqrt{2}} (\\alpha |0\\rangle \\otimes (|00\\rangle + |11\\rangle) + \\beta |1\\rangle \\otimes (|00\\rangle + |11\\rangle))\\\\\n",
    "&= \\frac{1}{\\sqrt{2}} (\\alpha|000\\rangle + \\alpha|011\\rangle + \\beta|100\\rangle + \\beta|111\\rangle) \n",
    "\\end{align*}$$"
   ]
  },
  {
   "cell_type": "markdown",
   "id": "a44a3984-24f2-4204-ae03-5a4ac4fc116d",
   "metadata": {},
   "source": [
    "Now according to the protocol (We will talk about it later)  Alice applies CNOT gate on her two qubits followed by Hadamard gate on the first qubit. This results in the state:\n",
    "\n",
    "$$ \n",
    "\\begin{align*} (H \\otimes I \\otimes I) (CNOT \\otimes I) (|\\psi\\rangle \\otimes |e\\rangle)\n",
    "&=(H \\otimes I \\otimes I) (CNOT \\otimes I) \\frac{1}{\\sqrt{2}} (\\alpha|000\\rangle + \\alpha|011\\rangle + \\beta|100\\rangle + \\beta|111\\rangle) \\\\\n",
    "&= (H \\otimes I \\otimes I) \\frac{1}{\\sqrt{2}} (\\alpha|000\\rangle + \\alpha|011\\rangle + \\beta|110\\rangle + \\beta|101\\rangle) \\\\\n",
    "&= \\frac{1}{2}  (\\alpha(|000\\rangle + |011\\rangle + |100\\rangle + |111\\rangle) + \\beta(|010\\rangle + |001\\rangle - |110\\rangle - |101\\rangle)) \\\\\n",
    "\\end{align*}\n",
    "$$\n",
    "\n",
    "Which can then be separated and written as: \n",
    "\n",
    "$$\n",
    "\\begin{align*}\n",
    "= \\frac{1}{2}(\n",
    " & \\phantom{+} |00\\rangle (\\alpha|0\\rangle + \\beta|1\\rangle) \\hphantom{\\quad )} \\\\\n",
    " & + |01\\rangle (\\alpha|1\\rangle + \\beta|0\\rangle) \\hphantom{\\quad )}\\\\[4pt]\n",
    " & + |10\\rangle (\\alpha|0\\rangle - \\beta|1\\rangle) \\hphantom{\\quad )}\\\\[4pt]\n",
    " & + |11\\rangle (\\alpha|1\\rangle - \\beta|0\\rangle) \\quad )\\\\\n",
    "\\end{align*}\n",
    "$$"
   ]
  },
  {
   "cell_type": "markdown",
   "id": "e6ba97c5-4f14-4b89-b130-0679da5d77dc",
   "metadata": {},
   "source": [
    "Alice measures the first two qubit (which she owns) and sends them as two classical bits to Bob. The result she obtains is always one of the four standard basis states $|00\\rangle, |01\\rangle, |10\\rangle,$ and $|11\\rangle$ with equal probability.  \n",
    "\n",
    "On the basis of her measurement, Bob's state will be projected to, \n",
    "$$ |00\\rangle \\rightarrow (\\alpha|0\\rangle + \\beta|1\\rangle)\\\\\n",
    "|01\\rangle \\rightarrow (\\alpha|1\\rangle + \\beta|0\\rangle)\\\\\n",
    "|10\\rangle \\rightarrow (\\alpha|0\\rangle - \\beta|1\\rangle)\\\\\n",
    "|11\\rangle \\rightarrow (\\alpha|1\\rangle - \\beta|0\\rangle)$$."
   ]
  },
  {
   "cell_type": "markdown",
   "id": "2841be56-ec7a-49aa-805b-e87ece9b65ab",
   "metadata": {},
   "source": [
    "Bob, on receiving the bits from Alice, knows he can obtain the original state $|\\psi\\rangle$ by applying appropriate transformations on his qubit that was once part of the entangled pair.\n",
    "\n",
    "The transformations he needs to apply are:\n",
    "\n",
    "$$\n",
    "\\begin{array}{c c c}\n",
    "\\mbox{Bob's State}                 & \\mbox{Bits Received} & \\mbox{Gate Applied} \\\\\n",
    "(\\alpha|0\\rangle + \\beta|1\\rangle) & 00                   & I                   \\\\\n",
    "(\\alpha|1\\rangle + \\beta|0\\rangle) & 01                   & X                   \\\\\n",
    "(\\alpha|0\\rangle - \\beta|1\\rangle) & 10                   & Z                   \\\\\n",
    "(\\alpha|1\\rangle - \\beta|0\\rangle) & 11                   & ZX\n",
    "\\end{array}\n",
    "$$\n",
    "\n",
    "After this step Bob will have successfully reconstructed Alice's state."
   ]
  },
  {
   "cell_type": "markdown",
   "id": "65e5895b-df78-47dc-a6a6-2f1bbfa1bf43",
   "metadata": {},
   "source": [
    "# Quantum Teleportation Protocol\n",
    "To transfer a quantum bit, Alice and Bob must use a third party (Telamon) to send them an entangled qubit pair. Alice then performs some operations on her qubit, sends the results to Bob over a classical communication channel, and Bob then performs some operations on his end to receive (re-create) Alice’s qubit.\n",
    "\n",
    "\n"
   ]
  },
  {
   "cell_type": "markdown",
   "id": "685fc17b-c2f7-4dd7-9778-5291975981c0",
   "metadata": {},
   "source": [
    "![Quantum Teleportation](tele1.jpeg)"
   ]
  },
  {
   "cell_type": "markdown",
   "id": "8ac3dd8c-ae18-4432-8523-e6e6b8bf0995",
   "metadata": {},
   "source": [
    "We will describe the steps on a quantum circuit below. Here, no qubits are actually ‘sent’, But the qubit information (state) will be sent!\n"
   ]
  },
  {
   "cell_type": "markdown",
   "id": "44fb72e6-e0c9-42c0-84cd-d18869acc30a",
   "metadata": {},
   "source": [
    " # Part 1 : Setting up the Circuit \n"
   ]
  },
  {
   "cell_type": "markdown",
   "id": "26027a22-75d2-4f8c-b179-8f8e5b8fd83b",
   "metadata": {},
   "source": [
    "## Imports and authentication :\n",
    "We Begin with loading the **Qiskit Simulator(IBM)**  and provide authentication information as bellow :"
   ]
  },
  {
   "cell_type": "markdown",
   "id": "85dc3479-d176-4966-b55b-621f6e8fe64b",
   "metadata": {},
   "source": [
    "The create the circuit , we also use  the additional and  necessary  imports  as follows (We are going to use both **qiskit and numpy** imports): \n"
   ]
  },
  {
   "cell_type": "code",
   "execution_count": 559,
   "id": "cc81194b-c72a-4f00-979d-595bf1e9ddb1",
   "metadata": {},
   "outputs": [],
   "source": [
    "import numpy as np\n",
    "from qiskit import QuantumCircuit, QuantumRegister, ClassicalRegister\n",
    "from qiskit import transpile, assemble\n",
    "from qiskit.visualization import plot_histogram, plot_bloch_multivector\n",
    "from qiskit.visualization import array_to_latex\n",
    "from qiskit.extensions import Initialize\n",
    "from qiskit.ignis.verification import marginal_counts\n",
    "from qiskit.quantum_info import random_statevector"
   ]
  },
  {
   "cell_type": "markdown",
   "id": "cbb0c17b-c40b-4a71-a43e-81105c092846",
   "metadata": {},
   "source": [
    "Using  3 qubits and 2 classical bits in 2 different registers "
   ]
  },
  {
   "cell_type": "code",
   "execution_count": 560,
   "id": "c4a89e83-ed1d-4cc3-96e7-02b080dfca29",
   "metadata": {},
   "outputs": [],
   "source": [
    "qr = QuantumRegister(3, name=\"q\")\n",
    "crz = ClassicalRegister(1, name=\"crz\")\n",
    "crx = ClassicalRegister(1, name=\"crx\")\n",
    "teleportation_circuit = QuantumCircuit(qr, crz, crx)"
   ]
  },
  {
   "cell_type": "markdown",
   "id": "b7a77f22-4ab7-4a22-b838-92eeee614261",
   "metadata": {},
   "source": [
    " To create a Bell pair between two qubits is to first transfer one of them to the X-basis (|+>⟩ and (|->) using a Hadamard gate, and then to apply a CNOT gate onto the other qubit controlled by the one in the X-basis."
   ]
  },
  {
   "cell_type": "code",
   "execution_count": 561,
   "id": "f180512f-9a3d-48c5-97f2-d80780a7f4f4",
   "metadata": {},
   "outputs": [],
   "source": [
    "def create_bell_pair(qc, a, b):\n",
    "    \"\"\"Creates a bell pair in qc using qubits a & b\n",
    "------------------------------------------------\n",
    "Input:(qc, qubit a, qubit b)\n",
    "Output:\n",
    "Apply Haddamard gate on qubit a.\n",
    "Apply CNOT gate on  qubits a as controlled and b  as target.\n",
    "This will create a bell state (entangled state)  of a and b.\n",
    "------------------------------------------------------------\n",
    "Example :create_bell_pair(qc, qo, q1)\"\"\"\n",
    "    qc.h(a)\n",
    "    qc.cx(a, b)"
   ]
  },
  {
   "cell_type": "markdown",
   "id": "2d5cf072-3951-4d29-a602-85f8b327ce79",
   "metadata": {},
   "source": [
    "Using  3 qubits and 2 classical bits in 2 different registers"
   ]
  },
  {
   "cell_type": "code",
   "execution_count": 562,
   "id": "b7a508d3-1986-4a12-acd5-26270d913ef6",
   "metadata": {},
   "outputs": [],
   "source": [
    "qr = QuantumRegister(3, name=\"q\")\n",
    "crz, crx = ClassicalRegister(1, name=\"crz\"), ClassicalRegister(1, name=\"crx\")\n",
    "teleportation_circuit = QuantumCircuit(qr, crz, crx)"
   ]
  },
  {
   "cell_type": "markdown",
   "id": "523aed0e-2de3-4f4a-bdee-1c7c4fb4bb21",
   "metadata": {},
   "source": [
    "Entangles qubits $q_1 $and $q_2$ and  view the circuit so far:\n"
   ]
  },
  {
   "cell_type": "code",
   "execution_count": 563,
   "id": "4d6d9513-2f26-420a-ad48-623d3af0afd5",
   "metadata": {},
   "outputs": [
    {
     "data": {
      "text/html": [
       "<pre style=\"word-wrap: normal;white-space: pre;background: #fff0;line-height: 1.1;font-family: &quot;Courier New&quot;,Courier,monospace\">                 \n",
       "  q_0: ──────────\n",
       "       ┌───┐     \n",
       "  q_1: ┤ H ├──■──\n",
       "       └───┘┌─┴─┐\n",
       "  q_2: ─────┤ X ├\n",
       "            └───┘\n",
       "crz: 1/══════════\n",
       "                 \n",
       "crx: 1/══════════\n",
       "                 </pre>"
      ],
      "text/plain": [
       "                 \n",
       "  q_0: ──────────\n",
       "       ┌───┐     \n",
       "  q_1: ┤ H ├──■──\n",
       "       └───┘┌─┴─┐\n",
       "  q_2: ─────┤ X ├\n",
       "            └───┘\n",
       "crz: 1/══════════\n",
       "                 \n",
       "crx: 1/══════════\n",
       "                 "
      ]
     },
     "execution_count": 563,
     "metadata": {},
     "output_type": "execute_result"
    }
   ],
   "source": [
    "create_bell_pair(teleportation_circuit, 1, 2)\n",
    "teleportation_circuit.draw()"
   ]
  },
  {
   "cell_type": "markdown",
   "id": "21428a83-db22-4c17-ab5a-ad2a7945b537",
   "metadata": {},
   "source": [
    "Lets assume that Alice has got $q_1$ and Bob got $q_2$  before the depart from each other."
   ]
  },
  {
   "cell_type": "markdown",
   "id": "ff953fd5-0958-4ded-bfc3-ce98ec091fa1",
   "metadata": {},
   "source": [
    "Alice applies a CNOT gate to $q_1$  controlled by |ψ⟩(the qubit she is trying to send Bob). Then Alice applies a Hadamard gate to |ψ⟩ .In our quantum circuit, the qubit |ψ⟩  Alice is trying to send is q0."
   ]
  },
  {
   "cell_type": "code",
   "execution_count": 564,
   "id": "613adf5e-62f2-462e-9cf3-59989a9e9cf9",
   "metadata": {},
   "outputs": [],
   "source": [
    "def alice_gates(qc, psi, a):\n",
    "    # example of  docsting.\n",
    "    \"\"\"  Assigning qubits to Alice\n",
    "    ----------------------------------\n",
    "    Input:alice_gates(qc, psi, a)\n",
    "    Output:\n",
    "    Apply CNOT gate on psi as controlled and  a as target\n",
    "    apply haddamard gate on psi.\n",
    "    Example : alice_gates(qc, q0, q1)\n",
    "    -----------------------------------\n",
    "    Alice performs her magic tricks on her assigned qubits.\"\"\"\n",
    "    qc.cx(psi, a)\n",
    "    qc.h(psi)"
   ]
  },
  {
   "cell_type": "markdown",
   "id": "68034f02-b87f-4116-9d42-4874f8746499",
   "metadata": {},
   "source": [
    "Using 3 qubits and 2 classical bits in 2 different registers:"
   ]
  },
  {
   "cell_type": "code",
   "execution_count": 565,
   "id": "8bafd4c8-c79b-48bf-9dd8-697f395be07f",
   "metadata": {},
   "outputs": [],
   "source": [
    "qr = QuantumRegister(3, name=\"q\")\n",
    "crz, crx = ClassicalRegister(1, name=\"crz\"), ClassicalRegister(1, name=\"crx\")\n",
    "teleportation_circuit = QuantumCircuit(qr, crz, crx)"
   ]
  },
  {
   "cell_type": "markdown",
   "id": "499f2dd0-c47d-4554-8d7b-cf68d90fba72",
   "metadata": {},
   "source": [
    "Step 1: Creating Bell pairs:"
   ]
  },
  {
   "cell_type": "code",
   "execution_count": 566,
   "id": "ce420487-8ec7-4613-a07d-46f33d0141af",
   "metadata": {},
   "outputs": [],
   "source": [
    "create_bell_pair(teleportation_circuit, 1, 2)"
   ]
  },
  {
   "cell_type": "markdown",
   "id": "f1e87d8d-3655-43a2-b499-8a279c0f0568",
   "metadata": {},
   "source": [
    "Step 2 : Use barrier to separate steps, it will make it easier to understand the circuit.\n",
    "Visualize the progress . "
   ]
  },
  {
   "cell_type": "code",
   "execution_count": 567,
   "id": "ba3b8abe-7999-4897-9f16-0ffe09b74366",
   "metadata": {},
   "outputs": [
    {
     "data": {
      "text/html": [
       "<pre style=\"word-wrap: normal;white-space: pre;background: #fff0;line-height: 1.1;font-family: &quot;Courier New&quot;,Courier,monospace\">                  ░      ┌───┐\n",
       "  q_0: ───────────░───■──┤ H ├\n",
       "       ┌───┐      ░ ┌─┴─┐└───┘\n",
       "  q_1: ┤ H ├──■───░─┤ X ├─────\n",
       "       └───┘┌─┴─┐ ░ └───┘     \n",
       "  q_2: ─────┤ X ├─░───────────\n",
       "            └───┘ ░           \n",
       "crz: 1/═══════════════════════\n",
       "                              \n",
       "crx: 1/═══════════════════════\n",
       "                              </pre>"
      ],
      "text/plain": [
       "                  ░      ┌───┐\n",
       "  q_0: ───────────░───■──┤ H ├\n",
       "       ┌───┐      ░ ┌─┴─┐└───┘\n",
       "  q_1: ┤ H ├──■───░─┤ X ├─────\n",
       "       └───┘┌─┴─┐ ░ └───┘     \n",
       "  q_2: ─────┤ X ├─░───────────\n",
       "            └───┘ ░           \n",
       "crz: 1/═══════════════════════\n",
       "                              \n",
       "crx: 1/═══════════════════════\n",
       "                              "
      ]
     },
     "execution_count": 567,
     "metadata": {},
     "output_type": "execute_result"
    }
   ],
   "source": [
    "teleportation_circuit.barrier()\n",
    "alice_gates(teleportation_circuit, 0, 1)\n",
    "teleportation_circuit.draw()"
   ]
  },
  {
   "cell_type": "markdown",
   "id": "81c3e67f-5d2a-43e8-b29e-cfd1aabdff4f",
   "metadata": {},
   "source": [
    "Step 3 Alice applies a measurement to both qubits $ q_1 $ and  |ψ⟩ that she owns and d stores this result in two classical bits. She then sends these two bits to Bob."
   ]
  },
  {
   "cell_type": "code",
   "execution_count": 568,
   "id": "cdc12f85-76c1-44cf-a3b9-94b704abe644",
   "metadata": {},
   "outputs": [],
   "source": [
    "def measure_and_send(qc, a, b):\n",
    "    \"\"\" Measures qubits a & b and 'sends' the results to Bob\n",
    "    -------------------------------------------------------\n",
    "    Input:measure_and_send(qc, a, b)\n",
    "    Output:\n",
    "    A new barrier will be created to seperate the taks.\n",
    "    Circuit will measure the value for qubit a and assign it to\n",
    "    classical bit  0\n",
    "    Circuit will measure the value for qubit b and assign it to\n",
    "    classical bit  1\n",
    "    ---------------------------------------------------------------------------\n",
    "    Example: measure_and_send(qc, q0, q1)\"\"\"\n",
    "    qc.barrier()\n",
    "    qc.measure(a, 0)\n",
    "    qc.measure(b, 1)"
   ]
  },
  {
   "cell_type": "markdown",
   "id": "84211f48-670c-4ff8-b256-1f0f2072ed05",
   "metadata": {},
   "source": [
    " Use barrier to separate steps.Measure and draw the circuit."
   ]
  },
  {
   "cell_type": "code",
   "execution_count": 569,
   "id": "195248d7-de44-4392-bbdf-46ec9f514e3e",
   "metadata": {},
   "outputs": [
    {
     "data": {
      "text/html": [
       "<pre style=\"word-wrap: normal;white-space: pre;background: #fff0;line-height: 1.1;font-family: &quot;Courier New&quot;,Courier,monospace\">                  ░      ┌───┐ ░ ┌─┐   \n",
       "  q_0: ───────────░───■──┤ H ├─░─┤M├───\n",
       "       ┌───┐      ░ ┌─┴─┐└───┘ ░ └╥┘┌─┐\n",
       "  q_1: ┤ H ├──■───░─┤ X ├──────░──╫─┤M├\n",
       "       └───┘┌─┴─┐ ░ └───┘      ░  ║ └╥┘\n",
       "  q_2: ─────┤ X ├─░────────────░──╫──╫─\n",
       "            └───┘ ░            ░  ║  ║ \n",
       "crz: 1/═══════════════════════════╩══╬═\n",
       "                                  0  ║ \n",
       "                                     ║ \n",
       "crx: 1/══════════════════════════════╩═\n",
       "                                     0 </pre>"
      ],
      "text/plain": [
       "                  ░      ┌───┐ ░ ┌─┐   \n",
       "  q_0: ───────────░───■──┤ H ├─░─┤M├───\n",
       "       ┌───┐      ░ ┌─┴─┐└───┘ ░ └╥┘┌─┐\n",
       "  q_1: ┤ H ├──■───░─┤ X ├──────░──╫─┤M├\n",
       "       └───┘┌─┴─┐ ░ └───┘      ░  ║ └╥┘\n",
       "  q_2: ─────┤ X ├─░────────────░──╫──╫─\n",
       "            └───┘ ░            ░  ║  ║ \n",
       "crz: 1/═══════════════════════════╩══╬═\n",
       "                                  0  ║ \n",
       "                                     ║ \n",
       "crx: 1/══════════════════════════════╩═\n",
       "                                     0 "
      ]
     },
     "execution_count": 569,
     "metadata": {},
     "output_type": "execute_result"
    }
   ],
   "source": [
    "measure_and_send(teleportation_circuit, 0, 1)\n",
    "teleportation_circuit.draw()"
   ]
  },
  {
   "cell_type": "markdown",
   "id": "3e1a5bb1-be8c-4ac6-8fe0-665802c4d06a",
   "metadata": {},
   "source": [
    "Bob, who already has the qubit $q_2$, then applies the following gates depending on the state of the classical bits: \\\n",
    "00  →  Do nothing .\\\n",
    "01  →  Apply X gate.\\\n",
    "10  →  Apply Z  gate\\\n",
    "11  →  Apply ZX gate.\\\n",
    "This function takes a QuantumCircuit (qc), integer (qubit) and ClassicalRegisters (crz & crx) to decide which gates to apply\n",
    "\n",
    "Here we use \"c_if\" to control our gates with a classical bit instead of a qubit. \n",
    "Apply gates if the registers are in state 1.\n"
   ]
  },
  {
   "cell_type": "code",
   "execution_count": 570,
   "id": "3b54f482-275a-48e9-a723-0ee0cffdb578",
   "metadata": {},
   "outputs": [],
   "source": [
    "def bob_gates(qc, qubit, crz, crx):\n",
    "    \"\"\"This function takes a QuantumCircuit (qc), integer (qubit)\n",
    "    and ClassicalRegisters (crz & crx) to decide which gates to apply.\n",
    "    Here we use c_if to control our gates with a classical bit instead\n",
    "    of a qubit\n",
    "    -----------------------------------------------------------\n",
    "    Input : bob_gates(qc, qubit, crz, crx)\n",
    "        Output: Here we use c_if to control our gates with a classical bit\n",
    "        instead of a qubit\n",
    "        Apply gates if the registers are in the state '1\n",
    "                Example : bob_gates(qc, q0, crz, crx).\n",
    "        ------------------------------------------------------------\n",
    "    Bob  performs his magic tricks on his assigned qubits.\"\"\"\n",
    "    qc.x(qubit).c_if(crx, 1)\n",
    "    qc.z(qubit).c_if(crz, 1)"
   ]
  },
  {
   "cell_type": "markdown",
   "id": "1026861b-dbfb-4d9d-9b43-80f5d1909d02",
   "metadata": {},
   "source": [
    "Using  3 qubits and 2 classical bits in 2 different registers\n"
   ]
  },
  {
   "cell_type": "code",
   "execution_count": 571,
   "id": "8e48fe70-c558-4437-a77c-0d850388c93d",
   "metadata": {},
   "outputs": [],
   "source": [
    "qr = QuantumRegister(3, name=\"q\")\n",
    "crz, crx = ClassicalRegister(1, name=\"crz\"), ClassicalRegister(1, name=\"crx\")\n",
    "teleportation_circuit = QuantumCircuit(qr, crz, crx)"
   ]
  },
  {
   "cell_type": "markdown",
   "id": "578a09f8-db9e-4922-aeb5-83d8b6c237a5",
   "metadata": {},
   "source": [
    "Create bell pair :\n"
   ]
  },
  {
   "cell_type": "code",
   "execution_count": 572,
   "id": "96e97fd9-2e94-4d17-bb15-66bcabc5c842",
   "metadata": {},
   "outputs": [],
   "source": [
    "create_bell_pair(teleportation_circuit, 1, 2)"
   ]
  },
  {
   "cell_type": "markdown",
   "id": "46c76e70-9f28-48ba-9394-def2ca8d0c52",
   "metadata": {},
   "source": [
    "Use barrier to separate steps (optional)\n"
   ]
  },
  {
   "cell_type": "code",
   "execution_count": 573,
   "id": "4fd16c6f-fe9d-4ae8-a61b-0bf15a8b4809",
   "metadata": {},
   "outputs": [],
   "source": [
    "teleportation_circuit.barrier()\n",
    "alice_gates(teleportation_circuit, 0, 1)"
   ]
  },
  {
   "cell_type": "markdown",
   "id": "823cbdcc-a74c-481a-9631-57f1614afeea",
   "metadata": {},
   "source": [
    "Do the measurement and send (through classical channel)"
   ]
  },
  {
   "cell_type": "code",
   "execution_count": 574,
   "id": "b3fb8b23-a747-41d0-b272-c764f3e2f3b3",
   "metadata": {},
   "outputs": [],
   "source": [
    "measure_and_send(teleportation_circuit, 0, 1)"
   ]
  },
  {
   "cell_type": "markdown",
   "id": "14ce091c-f3b0-4d36-9a63-10efdbb474c3",
   "metadata": {},
   "source": [
    "Use barrier to separate steps(optional)"
   ]
  },
  {
   "cell_type": "code",
   "execution_count": 575,
   "id": "af6328fe-78d6-4b58-8fcc-613cabe3e065",
   "metadata": {},
   "outputs": [
    {
     "data": {
      "text/html": [
       "<pre style=\"word-wrap: normal;white-space: pre;background: #fff0;line-height: 1.1;font-family: &quot;Courier New&quot;,Courier,monospace\">                  ░      ┌───┐ ░ ┌─┐    ░               \n",
       "  q_0: ───────────░───■──┤ H ├─░─┤M├────░───────────────\n",
       "       ┌───┐      ░ ┌─┴─┐└───┘ ░ └╥┘┌─┐ ░               \n",
       "  q_1: ┤ H ├──■───░─┤ X ├──────░──╫─┤M├─░───────────────\n",
       "       └───┘┌─┴─┐ ░ └───┘      ░  ║ └╥┘ ░  ┌───┐  ┌───┐ \n",
       "  q_2: ─────┤ X ├─░────────────░──╫──╫──░──┤ X ├──┤ Z ├─\n",
       "            └───┘ ░            ░  ║  ║  ░  └─╥─┘  └─╥─┘ \n",
       "                                  ║  ║       ║   ┌──╨──┐\n",
       "crz: 1/═══════════════════════════╩══╬═══════╬═══╡ = 1 ╞\n",
       "                                  0  ║    ┌──╨──┐└─────┘\n",
       "crx: 1/══════════════════════════════╩════╡ = 1 ╞═══════\n",
       "                                     0    └─────┘       </pre>"
      ],
      "text/plain": [
       "                  ░      ┌───┐ ░ ┌─┐    ░               \n",
       "  q_0: ───────────░───■──┤ H ├─░─┤M├────░───────────────\n",
       "       ┌───┐      ░ ┌─┴─┐└───┘ ░ └╥┘┌─┐ ░               \n",
       "  q_1: ┤ H ├──■───░─┤ X ├──────░──╫─┤M├─░───────────────\n",
       "       └───┘┌─┴─┐ ░ └───┘      ░  ║ └╥┘ ░  ┌───┐  ┌───┐ \n",
       "  q_2: ─────┤ X ├─░────────────░──╫──╫──░──┤ X ├──┤ Z ├─\n",
       "            └───┘ ░            ░  ║  ║  ░  └─╥─┘  └─╥─┘ \n",
       "                                  ║  ║       ║   ┌──╨──┐\n",
       "crz: 1/═══════════════════════════╩══╬═══════╬═══╡ = 1 ╞\n",
       "                                  0  ║    ┌──╨──┐└─────┘\n",
       "crx: 1/══════════════════════════════╩════╡ = 1 ╞═══════\n",
       "                                     0    └─────┘       "
      ]
     },
     "execution_count": 575,
     "metadata": {},
     "output_type": "execute_result"
    }
   ],
   "source": [
    "teleportation_circuit.barrier()\n",
    "bob_gates(teleportation_circuit, 2, crz, crx)\n",
    "teleportation_circuit.draw()"
   ]
  },
  {
   "cell_type": "markdown",
   "id": "52e43c9e-d06a-4103-b4b9-e959e5437690",
   "metadata": {},
   "source": [
    "At the end of this protocole Alices Qubit ( $q_0$ ) has been Teleported to Bob ($q_2$ )  successfully. "
   ]
  },
  {
   "cell_type": "markdown",
   "id": "a722e706-26fa-4250-805c-6d371afa5dcd",
   "metadata": {},
   "source": [
    "# Part 2  : Testing the Algorithm in Qiskit simulator \n"
   ]
  },
  {
   "cell_type": "markdown",
   "id": "3f8c17b5-c80a-4b3a-95a3-0ebfea1d356a",
   "metadata": {},
   "source": [
    "In this notebook, we will initialize Alice's qubit in a random state $ \\vert\\psi\\rangle $ (`psi`). This state will be created using an `Initialize` gate on $|q_0\\rangle$. In this chapter we use the function `random_statevector` to choose `psi` for us, but feel free to set `psi` to any qubit state you want."
   ]
  },
  {
   "cell_type": "markdown",
   "id": "9e5d4fe8-9be4-4d3c-9da9-5f6e07b08a2b",
   "metadata": {},
   "source": [
    "As an example, we will create a random 1-qubit state and plot it on a block sphere "
   ]
  },
  {
   "cell_type": "code",
   "execution_count": 576,
   "id": "7adef535-17e2-4a84-ad5e-4af11bfc1dc0",
   "metadata": {},
   "outputs": [
    {
     "data": {
      "text/latex": [
       "$$\n",
       "|\\psi\\rangle =\n",
       "\\begin{bmatrix}\n",
       "-0.6933 + 0.04767i & 0.0185 + 0.71883i  \\\\\n",
       " \\end{bmatrix}\n",
       "$$"
      ],
      "text/plain": [
       "<IPython.core.display.Latex object>"
      ]
     },
     "metadata": {},
     "output_type": "display_data"
    },
    {
     "data": {
      "image/png": "[encoded data removed]",
      "text/plain": [
       "<Figure size 288x288 with 1 Axes>"
      ]
     },
     "execution_count": 576,
     "metadata": {},
     "output_type": "execute_result"
    }
   ],
   "source": [
    "psi = random_statevector(2)\n",
    "display(array_to_latex(psi, prefix=\"|\\\\psi\\\\rangle =\"))\n",
    "plot_bloch_multivector(psi)"
   ]
  },
  {
   "cell_type": "markdown",
   "id": "570854e5-1889-48d5-8654-bfa90b52a405",
   "metadata": {},
   "source": [
    "Let's create our initialization instruction to create $|\\psi\\rangle$ from the state $|0\\rangle$:"
   ]
  },
  {
   "cell_type": "code",
   "execution_count": 577,
   "id": "905ca384-dfac-4b84-8b57-ff77958fd64e",
   "metadata": {},
   "outputs": [],
   "source": [
    "init_gate = Initialize(psi)\n",
    "init_gate.label = \"init\""
   ]
  },
  {
   "cell_type": "markdown",
   "id": "e5846087-399d-4ed7-8363-396c3f827ba8",
   "metadata": {},
   "source": [
    "(`Initialize` is technically not a gate since it contains a reset operation, and so is not reversible. We call it an 'instruction' instead). If the quantum teleportation circuit works, then at the end of the circuit the qubit $|q_2\\rangle$ will be in this state. We will check this using the statevector simulator."
   ]
  },
  {
   "cell_type": "markdown",
   "id": "b104ff0b-9d76-4c15-afdd-97895b289f8a",
   "metadata": {
    "jp-MarkdownHeadingCollapsed": true,
    "tags": []
   },
   "source": [
    " Using the Simulated Statevector We can use the Aer simulator to verify our qubit has been teleported."
   ]
  },
  {
   "cell_type": "markdown",
   "id": "330f69af-101c-4378-9026-c216975efaa8",
   "metadata": {},
   "source": [
    "Following Protocol using 3 qubits and  and 2 classical registers"
   ]
  },
  {
   "cell_type": "code",
   "execution_count": 578,
   "id": "3554880e-7596-47f7-93dc-bb5b04e2f1a7",
   "metadata": {},
   "outputs": [],
   "source": [
    "qr = QuantumRegister(3, name=\"q\")\n",
    "crz = ClassicalRegister(1, name=\"crz\")\n",
    "crx = ClassicalRegister(1, name=\"crx\")\n",
    "qc = QuantumCircuit(qr, crz, crx)"
   ]
  },
  {
   "cell_type": "markdown",
   "id": "0ab205a3-1181-4374-bc0d-a4d0c5effee8",
   "metadata": {},
   "source": [
    "First, let's initialize Alice's $q_0$\n"
   ]
  },
  {
   "cell_type": "code",
   "execution_count": 579,
   "id": "616c0c66-434b-4ad1-83c5-6f7eca7a7938",
   "metadata": {
    "tags": []
   },
   "outputs": [
    {
     "data": {
      "text/plain": [
       "<qiskit.circuit.instructionset.InstructionSet at 0xffff4ee9f730>"
      ]
     },
     "execution_count": 579,
     "metadata": {},
     "output_type": "execute_result"
    }
   ],
   "source": [
    "qc.append(init_gate, [0])\n",
    "qc.barrier()"
   ]
  },
  {
   "cell_type": "markdown",
   "id": "ef252373-5367-43da-b3c0-bdb84a1319a2",
   "metadata": {},
   "source": [
    "**Now  we can begins the teleportation protocol**\n",
    "\n"
   ]
  },
  {
   "cell_type": "code",
   "execution_count": 580,
   "id": "3500b8e0-6755-4992-82a7-7cf750ab3f7d",
   "metadata": {},
   "outputs": [
    {
     "data": {
      "text/plain": [
       "<qiskit.circuit.instructionset.InstructionSet at 0xffff64b06910>"
      ]
     },
     "execution_count": 580,
     "metadata": {},
     "output_type": "execute_result"
    }
   ],
   "source": [
    "create_bell_pair(qc, 1, 2)\n",
    "qc.barrier()"
   ]
  },
  {
   "cell_type": "markdown",
   "id": "d98edf7f-85c0-420c-87c0-99169ab8c9b1",
   "metadata": {
    "tags": []
   },
   "source": [
    "Lets  Send q1 to Alice and q2 to Bob"
   ]
  },
  {
   "cell_type": "code",
   "execution_count": 581,
   "id": "60c5f668-fba9-4269-8f6d-bfba28d8ff84",
   "metadata": {},
   "outputs": [],
   "source": [
    "alice_gates(qc, 0, 1)"
   ]
  },
  {
   "cell_type": "markdown",
   "id": "60687583-77f5-4b50-a627-79e4ea686d69",
   "metadata": {},
   "source": [
    "Alice then sends her classical bits to Bob\n",
    "\n"
   ]
  },
  {
   "cell_type": "code",
   "execution_count": 582,
   "id": "76145833-36a8-4908-bd74-baa5d0e06011",
   "metadata": {},
   "outputs": [],
   "source": [
    "measure_and_send(qc, 0, 1)"
   ]
  },
  {
   "cell_type": "markdown",
   "id": "f91a4855-3c2f-482b-805c-08a2da2d6650",
   "metadata": {},
   "source": [
    "Bob now decodes his qubits (By applying appropriate gates)"
   ]
  },
  {
   "cell_type": "code",
   "execution_count": 583,
   "id": "e004d45c-2f38-4c85-b6f7-06bcf61aa2ac",
   "metadata": {},
   "outputs": [],
   "source": [
    "bob_gates(qc, 2, crz, crx)"
   ]
  },
  {
   "cell_type": "markdown",
   "id": "8c606c06-2c9f-457d-ba3b-182371f44773",
   "metadata": {},
   "source": [
    "Display  of the circuit\n"
   ]
  },
  {
   "cell_type": "code",
   "execution_count": 584,
   "id": "ff470c0b-04d3-4046-903e-353b7323ca2a",
   "metadata": {},
   "outputs": [
    {
     "data": {
      "text/html": [
       "<pre style=\"word-wrap: normal;white-space: pre;background: #fff0;line-height: 1.1;font-family: &quot;Courier New&quot;,Courier,monospace\">       ┌───────────────────────────────────────────┐ ░            ░      ┌───┐»\n",
       "  q_0: ┤ init(-0.6933+0.047673j,0.018499+0.71883j) ├─░────────────░───■──┤ H ├»\n",
       "       └───────────────────────────────────────────┘ ░ ┌───┐      ░ ┌─┴─┐└───┘»\n",
       "  q_1: ──────────────────────────────────────────────░─┤ H ├──■───░─┤ X ├─────»\n",
       "                                                     ░ └───┘┌─┴─┐ ░ └───┘     »\n",
       "  q_2: ──────────────────────────────────────────────░──────┤ X ├─░───────────»\n",
       "                                                     ░      └───┘ ░           »\n",
       "crz: 1/═══════════════════════════════════════════════════════════════════════»\n",
       "                                                                              »\n",
       "crx: 1/═══════════════════════════════════════════════════════════════════════»\n",
       "                                                                              »\n",
       "«        ░ ┌─┐                 \n",
       "«  q_0: ─░─┤M├─────────────────\n",
       "«        ░ └╥┘┌─┐              \n",
       "«  q_1: ─░──╫─┤M├──────────────\n",
       "«        ░  ║ └╥┘ ┌───┐  ┌───┐ \n",
       "«  q_2: ─░──╫──╫──┤ X ├──┤ Z ├─\n",
       "«        ░  ║  ║  └─╥─┘  └─╥─┘ \n",
       "«           ║  ║    ║   ┌──╨──┐\n",
       "«crz: 1/════╩══╬════╬═══╡ = 1 ╞\n",
       "«           0  ║ ┌──╨──┐└─────┘\n",
       "«crx: 1/═══════╩═╡ = 1 ╞═══════\n",
       "«              0 └─────┘       </pre>"
      ],
      "text/plain": [
       "       ┌───────────────────────────────────────────┐ ░            ░      ┌───┐»\n",
       "  q_0: ┤ init(-0.6933+0.047673j,0.018499+0.71883j) ├─░────────────░───■──┤ H ├»\n",
       "       └───────────────────────────────────────────┘ ░ ┌───┐      ░ ┌─┴─┐└───┘»\n",
       "  q_1: ──────────────────────────────────────────────░─┤ H ├──■───░─┤ X ├─────»\n",
       "                                                     ░ └───┘┌─┴─┐ ░ └───┘     »\n",
       "  q_2: ──────────────────────────────────────────────░──────┤ X ├─░───────────»\n",
       "                                                     ░      └───┘ ░           »\n",
       "crz: 1/═══════════════════════════════════════════════════════════════════════»\n",
       "                                                                              »\n",
       "crx: 1/═══════════════════════════════════════════════════════════════════════»\n",
       "                                                                              »\n",
       "«        ░ ┌─┐                 \n",
       "«  q_0: ─░─┤M├─────────────────\n",
       "«        ░ └╥┘┌─┐              \n",
       "«  q_1: ─░──╫─┤M├──────────────\n",
       "«        ░  ║ └╥┘ ┌───┐  ┌───┐ \n",
       "«  q_2: ─░──╫──╫──┤ X ├──┤ Z ├─\n",
       "«        ░  ║  ║  └─╥─┘  └─╥─┘ \n",
       "«           ║  ║    ║   ┌──╨──┐\n",
       "«crz: 1/════╩══╬════╬═══╡ = 1 ╞\n",
       "«           0  ║ ┌──╨──┐└─────┘\n",
       "«crx: 1/═══════╩═╡ = 1 ╞═══════\n",
       "«              0 └─────┘       "
      ]
     },
     "execution_count": 584,
     "metadata": {},
     "output_type": "execute_result"
    }
   ],
   "source": [
    "qc.draw()"
   ]
  },
  {
   "cell_type": "markdown",
   "id": "778c9376-8447-4144-bb22-8eaf93c01f3b",
   "metadata": {},
   "source": [
    "We can see below, using the statevector obtained from the aer simulator, that the state of $|q_2\\rangle$ is the same as the state $|\\psi\\rangle$ we created above, while the states of $|q_0\\rangle$ and $|q_1\\rangle$ have been collapsed to either $|0\\rangle$ or $|1\\rangle$. The state $|\\psi\\rangle$ has been teleported from qubit 0 to qubit 2."
   ]
  },
  {
   "cell_type": "code",
   "execution_count": 585,
   "id": "1330d4fe-a0ac-4400-88af-15d4e971d507",
   "metadata": {},
   "outputs": [
    {
     "data": {
      "image/png": "[encoded data removed]",
      "text/plain": [
       "<Figure size 864x288 with 3 Axes>"
      ]
     },
     "execution_count": 585,
     "metadata": {},
     "output_type": "execute_result"
    }
   ],
   "source": [
    "sim = Aer.get_backend('aer_simulator')\n",
    "qc.save_statevector()\n",
    "out_vector = sim.run(qc).result().get_statevector()\n",
    "plot_bloch_multivector(out_vector)"
   ]
  },
  {
   "cell_type": "markdown",
   "id": "63bca574-0c69-4341-a129-996fa3a5e747",
   "metadata": {},
   "source": [
    "We can run this cell a few times to make sure. We notice that the qubits 0 & 1 change states, but qubit 2 is always in the state $|\\psi\\rangle$."
   ]
  },
  {
   "cell_type": "markdown",
   "id": "a64705c9-1ad8-4ffa-968b-95edcfebfeec",
   "metadata": {},
   "source": [
    "On a real quantum computer, we would not be able to sample the statevector, so if we wanted to check our teleportation circuit is working, we need to do things slightly differently. The `Initialize` instruction first performs a reset, setting our qubit to the state $|0\\rangle$. It then applies gates to turn our $|0\\rangle$ qubit into the state $|\\psi\\rangle$:\n",
    "\n",
    "$$ |0\\rangle \\xrightarrow{\\text{Initialize gates}} |\\psi\\rangle $$\n",
    "\n",
    "Since all quantum gates are **reversible**, we can find the inverse of these gates using:"
   ]
  },
  {
   "cell_type": "code",
   "execution_count": 586,
   "id": "4abd4891-607e-4955-b687-ea9c37675faf",
   "metadata": {},
   "outputs": [],
   "source": [
    "inverse_init_gate = init_gate.gates_to_uncompute()"
   ]
  },
  {
   "cell_type": "markdown",
   "id": "cd796582-bcb8-4468-a80b-f216dad5aaaf",
   "metadata": {},
   "source": [
    "This operation has the property:\n",
    "\n",
    "$$ |\\psi\\rangle \\xrightarrow{\\text{Inverse Initialize gates}} |0\\rangle $$\n",
    "\n",
    "To prove the qubit $|q_0\\rangle$ has been teleported to $|q_2\\rangle$, if we do this inverse initialization on $|q_2\\rangle$, we expect to measure $|0\\rangle$ with certainty. We do this in the circuit below:"
   ]
  },
  {
   "cell_type": "markdown",
   "id": "b24a23a8-4d72-4efa-adbb-4fc09f83b5b3",
   "metadata": {},
   "source": [
    "Protocol uses 3 qubits , and 2 classical registers (renaming crz and crx):"
   ]
  },
  {
   "cell_type": "code",
   "execution_count": 587,
   "id": "afe46646-e30d-44af-accd-9ed172d0b79c",
   "metadata": {},
   "outputs": [],
   "source": [
    "qr = QuantumRegister(3, name=\"q\")\n",
    "crz = ClassicalRegister(1, name=\"crz\")\n",
    "crx = ClassicalRegister(1, name=\"crx\")\n",
    "qc = QuantumCircuit(qr, crz, crx)"
   ]
  },
  {
   "cell_type": "markdown",
   "id": "2e43d640-1817-4c87-af3b-de519be1a23c",
   "metadata": {},
   "source": [
    "First, let's initialize Alice's $q_0$\n"
   ]
  },
  {
   "cell_type": "code",
   "execution_count": 588,
   "id": "ed7e4c3e-b2bb-47b1-b66e-2120ae306e6d",
   "metadata": {},
   "outputs": [
    {
     "data": {
      "text/plain": [
       "<qiskit.circuit.instructionset.InstructionSet at 0xffff4df6b910>"
      ]
     },
     "execution_count": 588,
     "metadata": {},
     "output_type": "execute_result"
    }
   ],
   "source": [
    "qc.append(init_gate, [0])\n",
    "qc.barrier()"
   ]
  },
  {
   "cell_type": "markdown",
   "id": "1abe8b3b-44b5-45a6-9c7d-f2909a3acd56",
   "metadata": {},
   "source": [
    "Now begins the teleportation protocol, Create the **Bell Pair**, Send $q_1$ to Alice and $q_2$ to Bob ."
   ]
  },
  {
   "cell_type": "code",
   "execution_count": 589,
   "id": "b630cd5f-73cb-4eab-a71c-d45cd973b55c",
   "metadata": {},
   "outputs": [],
   "source": [
    "create_bell_pair(qc, 1, 2)\n",
    "qc.barrier()\n",
    "alice_gates(qc, 0, 1)"
   ]
  },
  {
   "cell_type": "markdown",
   "id": "e3bf99aa-014d-4d01-a1e3-002a94306b9e",
   "metadata": {},
   "source": [
    "Alice mesures her qubits and then sends her classical bits to Bob"
   ]
  },
  {
   "cell_type": "code",
   "execution_count": 590,
   "id": "6d035060-f13b-4681-92e2-f5519c239584",
   "metadata": {},
   "outputs": [],
   "source": [
    "measure_and_send(qc, 0, 1)"
   ]
  },
  {
   "cell_type": "markdown",
   "id": "0d308ad6-6680-47b1-86bd-9d0e50fcb7f4",
   "metadata": {},
   "source": [
    "Now Bob decodes qubits, following the protocol. \n"
   ]
  },
  {
   "cell_type": "code",
   "execution_count": 591,
   "id": "54a48427-4dfd-4cad-aa9b-5a34814fd1c4",
   "metadata": {},
   "outputs": [],
   "source": [
    "bob_gates(qc, 2, crz, crx)"
   ]
  },
  {
   "cell_type": "markdown",
   "id": "c77ce18c-fbd6-426a-9c31-10e7c5ad30a3",
   "metadata": {},
   "source": [
    "Lets reverse the initialization process\n",
    "and  Display the circuit"
   ]
  },
  {
   "cell_type": "code",
   "execution_count": 592,
   "id": "438ee7bb-7905-4159-8531-4a068190cdd1",
   "metadata": {},
   "outputs": [
    {
     "data": {
      "text/html": [
       "<pre style=\"word-wrap: normal;white-space: pre;background: #fff0;line-height: 1.1;font-family: &quot;Courier New&quot;,Courier,monospace\">       ┌───────────────────────────────────────────┐ ░            ░      ┌───┐»\n",
       "  q_0: ┤ init(-0.6933+0.047673j,0.018499+0.71883j) ├─░────────────░───■──┤ H ├»\n",
       "       └───────────────────────────────────────────┘ ░ ┌───┐      ░ ┌─┴─┐└───┘»\n",
       "  q_1: ──────────────────────────────────────────────░─┤ H ├──■───░─┤ X ├─────»\n",
       "                                                     ░ └───┘┌─┴─┐ ░ └───┘     »\n",
       "  q_2: ──────────────────────────────────────────────░──────┤ X ├─░───────────»\n",
       "                                                     ░      └───┘ ░           »\n",
       "crz: 1/═══════════════════════════════════════════════════════════════════════»\n",
       "                                                                              »\n",
       "crx: 1/═══════════════════════════════════════════════════════════════════════»\n",
       "                                                                              »\n",
       "«        ░ ┌─┐                                 \n",
       "«  q_0: ─░─┤M├─────────────────────────────────\n",
       "«        ░ └╥┘┌─┐                              \n",
       "«  q_1: ─░──╫─┤M├──────────────────────────────\n",
       "«        ░  ║ └╥┘ ┌───┐  ┌───┐ ┌──────────────┐\n",
       "«  q_2: ─░──╫──╫──┤ X ├──┤ Z ├─┤ disentangler ├\n",
       "«        ░  ║  ║  └─╥─┘  └─╥─┘ └──────────────┘\n",
       "«           ║  ║    ║   ┌──╨──┐                \n",
       "«crz: 1/════╩══╬════╬═══╡ = 1 ╞════════════════\n",
       "«           0  ║ ┌──╨──┐└─────┘                \n",
       "«crx: 1/═══════╩═╡ = 1 ╞═══════════════════════\n",
       "«              0 └─────┘                       </pre>"
      ],
      "text/plain": [
       "       ┌───────────────────────────────────────────┐ ░            ░      ┌───┐»\n",
       "  q_0: ┤ init(-0.6933+0.047673j,0.018499+0.71883j) ├─░────────────░───■──┤ H ├»\n",
       "       └───────────────────────────────────────────┘ ░ ┌───┐      ░ ┌─┴─┐└───┘»\n",
       "  q_1: ──────────────────────────────────────────────░─┤ H ├──■───░─┤ X ├─────»\n",
       "                                                     ░ └───┘┌─┴─┐ ░ └───┘     »\n",
       "  q_2: ──────────────────────────────────────────────░──────┤ X ├─░───────────»\n",
       "                                                     ░      └───┘ ░           »\n",
       "crz: 1/═══════════════════════════════════════════════════════════════════════»\n",
       "                                                                              »\n",
       "crx: 1/═══════════════════════════════════════════════════════════════════════»\n",
       "                                                                              »\n",
       "«        ░ ┌─┐                                 \n",
       "«  q_0: ─░─┤M├─────────────────────────────────\n",
       "«        ░ └╥┘┌─┐                              \n",
       "«  q_1: ─░──╫─┤M├──────────────────────────────\n",
       "«        ░  ║ └╥┘ ┌───┐  ┌───┐ ┌──────────────┐\n",
       "«  q_2: ─░──╫──╫──┤ X ├──┤ Z ├─┤ disentangler ├\n",
       "«        ░  ║  ║  └─╥─┘  └─╥─┘ └──────────────┘\n",
       "«           ║  ║    ║   ┌──╨──┐                \n",
       "«crz: 1/════╩══╬════╬═══╡ = 1 ╞════════════════\n",
       "«           0  ║ ┌──╨──┐└─────┘                \n",
       "«crx: 1/═══════╩═╡ = 1 ╞═══════════════════════\n",
       "«              0 └─────┘                       "
      ]
     },
     "execution_count": 592,
     "metadata": {},
     "output_type": "execute_result"
    }
   ],
   "source": [
    "qc.append(inverse_init_gate, [2])\n",
    "qc.draw()"
   ]
  },
  {
   "cell_type": "markdown",
   "id": "0aba0b05-369f-429d-988c-9dabf936ea16",
   "metadata": {},
   "source": [
    "We can see the `inverse_init_gate` appearing, labelled **'disentangler'** on the circuit diagram. Finally, we measure the third qubit and store the result in the third classical bit(we Need to add a new Classical Register to see the result):"
   ]
  },
  {
   "cell_type": "code",
   "execution_count": 593,
   "id": "0664c837-2c2c-410e-bcf4-bcd06e9d7bbc",
   "metadata": {},
   "outputs": [
    {
     "data": {
      "text/html": [
       "<pre style=\"word-wrap: normal;white-space: pre;background: #fff0;line-height: 1.1;font-family: &quot;Courier New&quot;,Courier,monospace\">       ┌───────────────────────────────────────────┐ ░            ░      ┌───┐»\n",
       "  q_0: ┤ init(-0.6933+0.047673j,0.018499+0.71883j) ├─░────────────░───■──┤ H ├»\n",
       "       └───────────────────────────────────────────┘ ░ ┌───┐      ░ ┌─┴─┐└───┘»\n",
       "  q_1: ──────────────────────────────────────────────░─┤ H ├──■───░─┤ X ├─────»\n",
       "                                                     ░ └───┘┌─┴─┐ ░ └───┘     »\n",
       "  q_2: ──────────────────────────────────────────────░──────┤ X ├─░───────────»\n",
       "                                                     ░      └───┘ ░           »\n",
       "crz: 1/═══════════════════════════════════════════════════════════════════════»\n",
       "                                                                              »\n",
       "crx: 1/═══════════════════════════════════════════════════════════════════════»\n",
       "                                                                              »\n",
       "c13: 1/═══════════════════════════════════════════════════════════════════════»\n",
       "                                                                              »\n",
       "«        ░ ┌─┐                                    \n",
       "«  q_0: ─░─┤M├────────────────────────────────────\n",
       "«        ░ └╥┘┌─┐                                 \n",
       "«  q_1: ─░──╫─┤M├─────────────────────────────────\n",
       "«        ░  ║ └╥┘ ┌───┐  ┌───┐ ┌──────────────┐┌─┐\n",
       "«  q_2: ─░──╫──╫──┤ X ├──┤ Z ├─┤ disentangler ├┤M├\n",
       "«        ░  ║  ║  └─╥─┘  └─╥─┘ └──────────────┘└╥┘\n",
       "«           ║  ║    ║   ┌──╨──┐                 ║ \n",
       "«crz: 1/════╩══╬════╬═══╡ = 1 ╞═════════════════╬═\n",
       "«           0  ║ ┌──╨──┐└─────┘                 ║ \n",
       "«crx: 1/═══════╩═╡ = 1 ╞════════════════════════╬═\n",
       "«              0 └─────┘                        ║ \n",
       "«c13: 1/════════════════════════════════════════╩═\n",
       "«                                               0 </pre>"
      ],
      "text/plain": [
       "       ┌───────────────────────────────────────────┐ ░            ░      ┌───┐»\n",
       "  q_0: ┤ init(-0.6933+0.047673j,0.018499+0.71883j) ├─░────────────░───■──┤ H ├»\n",
       "       └───────────────────────────────────────────┘ ░ ┌───┐      ░ ┌─┴─┐└───┘»\n",
       "  q_1: ──────────────────────────────────────────────░─┤ H ├──■───░─┤ X ├─────»\n",
       "                                                     ░ └───┘┌─┴─┐ ░ └───┘     »\n",
       "  q_2: ──────────────────────────────────────────────░──────┤ X ├─░───────────»\n",
       "                                                     ░      └───┘ ░           »\n",
       "crz: 1/═══════════════════════════════════════════════════════════════════════»\n",
       "                                                                              »\n",
       "crx: 1/═══════════════════════════════════════════════════════════════════════»\n",
       "                                                                              »\n",
       "c13: 1/═══════════════════════════════════════════════════════════════════════»\n",
       "                                                                              »\n",
       "«        ░ ┌─┐                                    \n",
       "«  q_0: ─░─┤M├────────────────────────────────────\n",
       "«        ░ └╥┘┌─┐                                 \n",
       "«  q_1: ─░──╫─┤M├─────────────────────────────────\n",
       "«        ░  ║ └╥┘ ┌───┐  ┌───┐ ┌──────────────┐┌─┐\n",
       "«  q_2: ─░──╫──╫──┤ X ├──┤ Z ├─┤ disentangler ├┤M├\n",
       "«        ░  ║  ║  └─╥─┘  └─╥─┘ └──────────────┘└╥┘\n",
       "«           ║  ║    ║   ┌──╨──┐                 ║ \n",
       "«crz: 1/════╩══╬════╬═══╡ = 1 ╞═════════════════╬═\n",
       "«           0  ║ ┌──╨──┐└─────┘                 ║ \n",
       "«crx: 1/═══════╩═╡ = 1 ╞════════════════════════╬═\n",
       "«              0 └─────┘                        ║ \n",
       "«c13: 1/════════════════════════════════════════╩═\n",
       "«                                               0 "
      ]
     },
     "execution_count": 593,
     "metadata": {},
     "output_type": "execute_result"
    }
   ],
   "source": [
    "cr_result = ClassicalRegister(1)\n",
    "qc.add_register(cr_result)\n",
    "qc.measure(2, 2)\n",
    "qc.draw()"
   ]
  },
  {
   "cell_type": "markdown",
   "id": "ad656625-6956-4b96-b618-5bc754857f10",
   "metadata": {},
   "source": [
    "Lets  we run our experiment and plot the histogram result:"
   ]
  },
  {
   "cell_type": "code",
   "execution_count": 594,
   "id": "dc2f8be1-bb01-476c-b822-9b40cc628d56",
   "metadata": {},
   "outputs": [
    {
     "data": {
      "image/png": "[encoded data removed]",
      "text/plain": [
       "<Figure size 504x360 with 1 Axes>"
      ]
     },
     "execution_count": 594,
     "metadata": {},
     "output_type": "execute_result"
    }
   ],
   "source": [
    "t_qc = transpile(qc, sim)\n",
    "t_qc.save_statevector()\n",
    "counts = sim.run(t_qc).result().get_counts()\n",
    "qubit_counts = [marginal_counts(counts, [qubit]) for qubit in range(3)]\n",
    "plot_histogram(qubit_counts)"
   ]
  },
  {
   "cell_type": "markdown",
   "id": "33bdc53f-48ff-457d-88b2-bf862eacd5be",
   "metadata": {},
   "source": [
    "As we can see we have a **100%** chance of measuring $q_2$ (the purple bar in the histogram) in the state $|0\\rangle$. This is the expected result, and indicates that the teleportation protocol has worked **properly**."
   ]
  },
  {
   "cell_type": "markdown",
   "id": "dd09b03a-648a-439c-aca4-ffdf83149262",
   "metadata": {},
   "source": [
    "# Part 4: Executing the simulation on a real Quantum Computer"
   ]
  },
  {
   "cell_type": "markdown",
   "id": "ba7d65ea-6481-4165-9673-20a05f4baf11",
   "metadata": {},
   "source": [
    "Let us re-write the \"bob_gates\" function to \"new_bob_gates\":\n"
   ]
  },
  {
   "cell_type": "code",
   "execution_count": 595,
   "id": "7355f331-ad4b-447a-b251-71a56257cb0c",
   "metadata": {},
   "outputs": [],
   "source": [
    "def new_bob_gates(qc, a, b, c):\n",
    "    \"\"\"\" Defining new gate\n",
    "    ------------------------------------\n",
    "    Input:new_bob_gates(qc, a, b, c)\n",
    "    Output:Circuit will perform a CNOT gate on controlled b and target c.\n",
    "    Circuit will perform a Controlled Z on a(controlled) and c(target)\n",
    "    -----------------------------------------------------------------\n",
    "    Example : new_bob_gates(qc, q0, q1, q2)\"\"\"\n",
    "    qc.cx(b, c)\n",
    "    qc.cz(a, c)"
   ]
  },
  {
   "cell_type": "markdown",
   "id": "c95e7213-538c-435a-884b-e29d231033b8",
   "metadata": {},
   "source": [
    "And create our new circuit:"
   ]
  },
  {
   "cell_type": "code",
   "execution_count": 596,
   "id": "232ddba6-c4e8-4624-88d8-5f3442d1c91a",
   "metadata": {},
   "outputs": [],
   "source": [
    "qc = QuantumCircuit(3, 1)"
   ]
  },
  {
   "cell_type": "markdown",
   "id": "9fa7e103-e531-4372-af0b-f390b0e9019b",
   "metadata": {},
   "source": [
    "First, let's initialize Alice's $q_0$:"
   ]
  },
  {
   "cell_type": "code",
   "execution_count": 597,
   "id": "e00f0fe3-bf39-49ed-9bd4-1e02821df72c",
   "metadata": {},
   "outputs": [
    {
     "data": {
      "text/plain": [
       "<qiskit.circuit.instructionset.InstructionSet at 0xffff4ded9370>"
      ]
     },
     "execution_count": 597,
     "metadata": {},
     "output_type": "execute_result"
    }
   ],
   "source": [
    "qc.append(init_gate, [0])\n",
    "qc.barrier()"
   ]
  },
  {
   "cell_type": "markdown",
   "id": "5de65b94-47a9-450a-ae26-3a6e8be8d8bb",
   "metadata": {},
   "source": [
    " Now begins the teleportation protocol:"
   ]
  },
  {
   "cell_type": "code",
   "execution_count": 598,
   "id": "fe539c48-d6a5-4fae-a7f8-6e83690dda29",
   "metadata": {},
   "outputs": [
    {
     "data": {
      "text/plain": [
       "<qiskit.circuit.instructionset.InstructionSet at 0xffff4dfc0fd0>"
      ]
     },
     "execution_count": 598,
     "metadata": {},
     "output_type": "execute_result"
    }
   ],
   "source": [
    "create_bell_pair(qc, 1, 2)\n",
    "qc.barrier()"
   ]
  },
  {
   "cell_type": "markdown",
   "id": "6a2bc62b-c81c-4fd5-875f-42efac59fb6b",
   "metadata": {},
   "source": [
    "Send $q_1$ to Alice and $q_2$ to Bob"
   ]
  },
  {
   "cell_type": "code",
   "execution_count": 599,
   "id": "c5e460b6-8292-4d90-b6b5-c9d9e52bf6a3",
   "metadata": {},
   "outputs": [
    {
     "data": {
      "text/plain": [
       "<qiskit.circuit.instructionset.InstructionSet at 0xffff4dfc5430>"
      ]
     },
     "execution_count": 599,
     "metadata": {},
     "output_type": "execute_result"
    }
   ],
   "source": [
    "alice_gates(qc, 0, 1)\n",
    "qc.barrier()"
   ]
  },
  {
   "cell_type": "markdown",
   "id": "23d0d676-dd2e-4d81-8f78-27910b27facd",
   "metadata": {},
   "source": [
    "Alice sends classical bits to Bob"
   ]
  },
  {
   "cell_type": "code",
   "execution_count": 600,
   "id": "b230ae59-2f62-4244-a7db-c6a111f59934",
   "metadata": {},
   "outputs": [],
   "source": [
    "new_bob_gates(qc, 0, 1, 2)"
   ]
  },
  {
   "cell_type": "markdown",
   "id": "90c449c2-8e5e-44b1-8b88-ec241c5d50f8",
   "metadata": {},
   "source": [
    "We undo the initialization process"
   ]
  },
  {
   "cell_type": "code",
   "execution_count": 601,
   "id": "e0ece02a-b3bc-47f0-ad64-725438248402",
   "metadata": {},
   "outputs": [
    {
     "data": {
      "text/plain": [
       "<qiskit.circuit.instructionset.InstructionSet at 0xffff4ded9490>"
      ]
     },
     "execution_count": 601,
     "metadata": {},
     "output_type": "execute_result"
    }
   ],
   "source": [
    "qc.append(inverse_init_gate, [2])"
   ]
  },
  {
   "cell_type": "markdown",
   "id": "b239933b-5515-4297-8bdd-a0389de2a0b6",
   "metadata": {},
   "source": [
    "As we only care about the state of qubit 2, lets measure and see the results:"
   ]
  },
  {
   "cell_type": "code",
   "execution_count": 602,
   "id": "97e52a27-aaa6-4477-8e19-3ecd9b71bd11",
   "metadata": {},
   "outputs": [
    {
     "data": {
      "text/html": [
       "<pre style=\"word-wrap: normal;white-space: pre;background: #fff0;line-height: 1.1;font-family: &quot;Courier New&quot;,Courier,monospace\">     ┌───────────────────────────────────────────┐ ░            ░      ┌───┐ ░ »\n",
       "q_0: ┤ init(-0.6933+0.047673j,0.018499+0.71883j) ├─░────────────░───■──┤ H ├─░─»\n",
       "     └───────────────────────────────────────────┘ ░ ┌───┐      ░ ┌─┴─┐└───┘ ░ »\n",
       "q_1: ──────────────────────────────────────────────░─┤ H ├──■───░─┤ X ├──────░─»\n",
       "                                                   ░ └───┘┌─┴─┐ ░ └───┘      ░ »\n",
       "q_2: ──────────────────────────────────────────────░──────┤ X ├─░────────────░─»\n",
       "                                                   ░      └───┘ ░            ░ »\n",
       "c: 1/══════════════════════════════════════════════════════════════════════════»\n",
       "                                                                               »\n",
       "«                                \n",
       "«q_0: ──────■────────────────────\n",
       "«           │                    \n",
       "«q_1: ──■───┼────────────────────\n",
       "«     ┌─┴─┐ │ ┌──────────────┐┌─┐\n",
       "«q_2: ┤ X ├─■─┤ disentangler ├┤M├\n",
       "«     └───┘   └──────────────┘└╥┘\n",
       "«c: 1/═════════════════════════╩═\n",
       "«                              0 </pre>"
      ],
      "text/plain": [
       "     ┌───────────────────────────────────────────┐ ░            ░      ┌───┐ ░ »\n",
       "q_0: ┤ init(-0.6933+0.047673j,0.018499+0.71883j) ├─░────────────░───■──┤ H ├─░─»\n",
       "     └───────────────────────────────────────────┘ ░ ┌───┐      ░ ┌─┴─┐└───┘ ░ »\n",
       "q_1: ──────────────────────────────────────────────░─┤ H ├──■───░─┤ X ├──────░─»\n",
       "                                                   ░ └───┘┌─┴─┐ ░ └───┘      ░ »\n",
       "q_2: ──────────────────────────────────────────────░──────┤ X ├─░────────────░─»\n",
       "                                                   ░      └───┘ ░            ░ »\n",
       "c: 1/══════════════════════════════════════════════════════════════════════════»\n",
       "                                                                               »\n",
       "«                                \n",
       "«q_0: ──────■────────────────────\n",
       "«           │                    \n",
       "«q_1: ──■───┼────────────────────\n",
       "«     ┌─┴─┐ │ ┌──────────────┐┌─┐\n",
       "«q_2: ┤ X ├─■─┤ disentangler ├┤M├\n",
       "«     └───┘   └──────────────┘└╥┘\n",
       "«c: 1/═════════════════════════╩═\n",
       "«                              0 "
      ]
     },
     "execution_count": 602,
     "metadata": {},
     "output_type": "execute_result"
    }
   ],
   "source": [
    "qc.measure(2, 0)\n",
    "qc.draw()"
   ]
  },
  {
   "cell_type": "markdown",
   "id": "6a97c246-68c6-4057-b2b7-a5f5db63b8f6",
   "metadata": {},
   "source": [
    "We have to see what devices we are **allowed** to use by loading our saved accounts.We can get the least-busy backend at IBM and run the quantum circuit there."
   ]
  },
  {
   "cell_type": "code",
   "execution_count": null,
   "id": "b1bac4ba-6b91-45b3-99f5-837073adf153",
   "metadata": {},
   "outputs": [],
   "source": [
    "from qiskit.providers.ibmq import least_busy\n",
    "from qiskit.tools.monitor import job_monitor\n",
    "backend = least_busy(provider.backends(filters = lambda b: b.configuration().n_qubits >= 3 and not b.configuration().simulator and b.status().operational==True))\n",
    "t_qc = transpile(qc, backend, optimization_level=3) # because of the nature of these \"import\", we cannot make it short/\n",
    "job = backend.run(t_qc) # making short will make it non-functional.\n",
    "job_monitor(job) # displays job status under cell"
   ]
  },
  {
   "cell_type": "markdown",
   "id": "3ad5eb31-754a-46db-ad4e-14f70ea551e4",
   "metadata": {},
   "source": [
    "Lets get the results and display them using histogrm plot:"
   ]
  },
  {
   "cell_type": "code",
   "execution_count": null,
   "id": "696c4ff1-b19a-4187-94a8-8893dfb81167",
   "metadata": {},
   "outputs": [],
   "source": [
    "exp_result = job.result()\n",
    "exp_counts = exp_result.get_counts(qc)\n",
    "print(exp_counts)\n",
    "plot_histogram(exp_counts)"
   ]
  },
  {
   "cell_type": "markdown",
   "id": "a438e2e0-4d0f-425c-be80-2b9de79e3f84",
   "metadata": {},
   "source": [
    "As we see here, there are a few results in which we measured $|1\\rangle$. These arise due to errors in the gates and the qubits. In contrast, our simulator in the earlier part of the notebook had zero errors in its gates, and allowed error-free teleportation."
   ]
  },
  {
   "cell_type": "code",
   "execution_count": null,
   "id": "cae56008-b879-4cce-8950-aca08613e202",
   "metadata": {
    "tags": []
   },
   "outputs": [],
   "source": [
    "ecv = exp_counts.values()\n",
    "print(f\"The experimental error rate:{exp_counts['1']*100/sum(ecv):.3f}%\")"
   ]
  },
  {
   "cell_type": "markdown",
   "id": "5e07ea9d-8b83-40b8-afa5-c200389188f2",
   "metadata": {},
   "source": [
    "We are seeing a little error because this is real result from real calculation in **Quantum Computer**"
   ]
  },
  {
   "cell_type": "markdown",
   "id": "db66a94d-5d76-48a5-bd65-918b8c6bec38",
   "metadata": {},
   "source": [
    "# References \n",
    "1) IBM. “Quantum Teleportation.” Qiskit.Org, 18 Oct. 2021, qiskit.org/textbook/ch-algorithms/teleportation.html.\n",
    "\n",
    "2) M. Nielsen and I. Chuang, Quantum Computation and Quantum Information, Cambridge Series on Information and the Natural Sciences (Cambridge University Press, Cambridge, 2000).\n",
    "\n",
    "3) Eleanor Rieffel and Wolfgang Polak, Quantum Computing: a Gentle Introduction (The MIT Press Cambridge England, Massachusetts, 2011).\n"
   ]
  }
 ],
 "metadata": {
  "kernelspec": {
   "display_name": "Python 3 (ipykernel)",
   "language": "python",
   "name": "python3"
  },
  "language_info": {
   "codemirror_mode": {
    "name": "ipython",
    "version": 3
   },
   "file_extension": ".py",
   "mimetype": "text/x-python",
   "name": "python",
   "nbconvert_exporter": "python",
   "pygments_lexer": "ipython3",
   "version": "3.9.5"
  },
  "widgets": {
   "application/vnd.jupyter.widget-state+json": {
    "state": {
     "02c826b936ed4b15b5b3fcd3cc94881a": {
      "model_module": "@jupyter-widgets/controls",
      "model_module_version": "1.5.0",
      "model_name": "GridBoxModel",
      "state": {
       "children": [
        "IPY_MODEL_9daf9d3b2323404d95672c9c35b7ec79"
       ],
       "layout": "IPY_MODEL_38f9f13ae5ed495198f784181d57e803"
      }
     },
     "159c5422768542ab89db6b2dad130833": {
      "model_module": "@jupyter-widgets/controls",
      "model_module_version": "1.5.0",
      "model_name": "HTMLModel",
      "state": {
       "layout": "IPY_MODEL_d6830836fb2c47cd9c28c55c2e6f8206",
       "style": "IPY_MODEL_540e259ff02e436e9d20fce087b4cc21",
       "value": "<h5>Message</h5>"
      }
     },
     "23028afed85841eda7a6d00f240a456d": {
      "model_module": "@jupyter-widgets/base",
      "model_module_version": "1.2.0",
      "model_name": "LayoutModel",
      "state": {
       "grid_area": "right",
       "padding": "0px 0px 0px 0px",
       "width": "70px"
      }
     },
     "271be68c419a40d7bd50396e65f2720a": {
      "model_module": "@jupyter-widgets/controls",
      "model_module_version": "1.5.0",
      "model_name": "DescriptionStyleModel",
      "state": {
       "description_width": ""
      }
     },
     "38f9f13ae5ed495198f784181d57e803": {
      "model_module": "@jupyter-widgets/base",
      "model_module_version": "1.2.0",
      "model_name": "LayoutModel",
      "state": {
       "grid_template_areas": "\n                                       \". . . . right \"\n                                        ",
       "grid_template_columns": "20% 20% 20% 20% 20%",
       "width": "100%"
      }
     },
     "3f2ac4f16e224146bcc7b010e54f0286": {
      "model_module": "@jupyter-widgets/controls",
      "model_module_version": "1.5.0",
      "model_name": "HTMLModel",
      "state": {
       "layout": "IPY_MODEL_fa409635452e4362b730a569e8d9df99",
       "style": "IPY_MODEL_81a1128320874ab093c3e8ade8ebee02",
       "value": "<h5>Job ID</h5>"
      }
     },
     "540e259ff02e436e9d20fce087b4cc21": {
      "model_module": "@jupyter-widgets/controls",
      "model_module_version": "1.5.0",
      "model_name": "DescriptionStyleModel",
      "state": {
       "description_width": ""
      }
     },
     "55b3c752925148c2bc000e2a06df9a79": {
      "model_module": "@jupyter-widgets/controls",
      "model_module_version": "1.5.0",
      "model_name": "DescriptionStyleModel",
      "state": {
       "description_width": ""
      }
     },
     "5b02531377e74a99a7bfce67f9955350": {
      "model_module": "@jupyter-widgets/controls",
      "model_module_version": "1.5.0",
      "model_name": "HTMLModel",
      "state": {
       "layout": "IPY_MODEL_d0fe9b17046e45148b8f2eb177233b36",
       "style": "IPY_MODEL_55b3c752925148c2bc000e2a06df9a79",
       "value": "<h5>Status</h5>"
      }
     },
     "6e7b509db92140d2a5084209f2c22ac7": {
      "model_module": "@jupyter-widgets/base",
      "model_module_version": "1.2.0",
      "model_name": "LayoutModel",
      "state": {
       "margin": "0px 0px 0px 37px",
       "width": "600px"
      }
     },
     "81a1128320874ab093c3e8ade8ebee02": {
      "model_module": "@jupyter-widgets/controls",
      "model_module_version": "1.5.0",
      "model_name": "DescriptionStyleModel",
      "state": {
       "description_width": ""
      }
     },
     "85f0593880d543d1bc278922937d8ab5": {
      "model_module": "@jupyter-widgets/base",
      "model_module_version": "1.2.0",
      "model_name": "LayoutModel",
      "state": {
       "margin": "0px 0px 10px 0px"
      }
     },
     "8755cc5ed66f46978d97bd7caac7d887": {
      "model_module": "@jupyter-widgets/controls",
      "model_module_version": "1.5.0",
      "model_name": "HTMLModel",
      "state": {
       "layout": "IPY_MODEL_e91311ccb4a44a028e4fb41b926cec85",
       "style": "IPY_MODEL_a3d5d2ec4ad34da0948b7704a8b0e5ef",
       "value": "<h5>Backend</h5>"
      }
     },
     "97f381a9f26e489485a0912213b58204": {
      "model_module": "@jupyter-widgets/controls",
      "model_module_version": "1.5.0",
      "model_name": "HBoxModel",
      "state": {
       "children": [
        "IPY_MODEL_3f2ac4f16e224146bcc7b010e54f0286",
        "IPY_MODEL_8755cc5ed66f46978d97bd7caac7d887",
        "IPY_MODEL_5b02531377e74a99a7bfce67f9955350",
        "IPY_MODEL_d524dc5a839b47dba4f8d86661837d35",
        "IPY_MODEL_159c5422768542ab89db6b2dad130833"
       ],
       "layout": "IPY_MODEL_6e7b509db92140d2a5084209f2c22ac7"
      }
     },
     "9d129b9e76c84cfa8436a5a7adab599f": {
      "model_module": "@jupyter-widgets/controls",
      "model_module_version": "1.5.0",
      "model_name": "ButtonStyleModel",
      "state": {}
     },
     "9daf9d3b2323404d95672c9c35b7ec79": {
      "model_module": "@jupyter-widgets/controls",
      "model_module_version": "1.5.0",
      "model_name": "ButtonModel",
      "state": {
       "button_style": "primary",
       "description": "Clear",
       "layout": "IPY_MODEL_23028afed85841eda7a6d00f240a456d",
       "style": "IPY_MODEL_9d129b9e76c84cfa8436a5a7adab599f"
      }
     },
     "a3d5d2ec4ad34da0948b7704a8b0e5ef": {
      "model_module": "@jupyter-widgets/controls",
      "model_module_version": "1.5.0",
      "model_name": "DescriptionStyleModel",
      "state": {
       "description_width": ""
      }
     },
     "aa9b3c442c7643e591e11e84df25953c": {
      "model_module": "@jupyter-widgets/base",
      "model_module_version": "1.2.0",
      "model_name": "LayoutModel",
      "state": {
       "width": "70px"
      }
     },
     "ac36f0daa5624b06a74eef98220704b5": {
      "model_module": "@jupyter-widgets/controls",
      "model_module_version": "1.5.0",
      "model_name": "HTMLModel",
      "state": {
       "layout": "IPY_MODEL_85f0593880d543d1bc278922937d8ab5",
       "style": "IPY_MODEL_f44f3d8c6688477997eabdc08c067aab",
       "value": "<p style='font-family: IBM Plex Sans, Arial, Helvetica, sans-serif; font-size: 20px; font-weight: medium;'>Circuit Properties</p>"
      }
     },
     "d0fe9b17046e45148b8f2eb177233b36": {
      "model_module": "@jupyter-widgets/base",
      "model_module_version": "1.2.0",
      "model_name": "LayoutModel",
      "state": {
       "width": "95px"
      }
     },
     "d524dc5a839b47dba4f8d86661837d35": {
      "model_module": "@jupyter-widgets/controls",
      "model_module_version": "1.5.0",
      "model_name": "HTMLModel",
      "state": {
       "layout": "IPY_MODEL_aa9b3c442c7643e591e11e84df25953c",
       "style": "IPY_MODEL_271be68c419a40d7bd50396e65f2720a",
       "value": "<h5>Queue</h5>"
      }
     },
     "d6830836fb2c47cd9c28c55c2e6f8206": {
      "model_module": "@jupyter-widgets/base",
      "model_module_version": "1.2.0",
      "model_name": "LayoutModel",
      "state": {}
     },
     "e91311ccb4a44a028e4fb41b926cec85": {
      "model_module": "@jupyter-widgets/base",
      "model_module_version": "1.2.0",
      "model_name": "LayoutModel",
      "state": {
       "width": "145px"
      }
     },
     "f44f3d8c6688477997eabdc08c067aab": {
      "model_module": "@jupyter-widgets/controls",
      "model_module_version": "1.5.0",
      "model_name": "DescriptionStyleModel",
      "state": {
       "description_width": ""
      }
     },
     "fa409635452e4362b730a569e8d9df99": {
      "model_module": "@jupyter-widgets/base",
      "model_module_version": "1.2.0",
      "model_name": "LayoutModel",
      "state": {
       "width": "190px"
      }
     }
    },
    "version_major": 2,
    "version_minor": 0
   }
  }
 },
 "nbformat": 4,
 "nbformat_minor": 5
}
